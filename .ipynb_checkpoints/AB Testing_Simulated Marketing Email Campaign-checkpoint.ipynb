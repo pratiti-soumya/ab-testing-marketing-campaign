{
 "cells": [
  {
   "cell_type": "markdown",
   "id": "484b5e77-c7d0-42e9-a290-9c560f7274ed",
   "metadata": {},
   "source": [
    "## A/B Testing Project: Simulated Marketing Email Campaign"
   ]
  },
  {
   "cell_type": "markdown",
   "id": "b33026bb-567f-4fd9-a76c-ac24eef0edb1",
   "metadata": {},
   "source": [
    "### Project Overview"
   ]
  },
  {
   "cell_type": "markdown",
   "id": "77c16d05-4d3f-4245-8a18-b5277cd6918b",
   "metadata": {},
   "source": [
    "#### Objective\n",
    "In this project, I'm running a simulated A/B test to compare the performance of two marketing email versions. My goal is to determine whether **Email Version B** performs better than **Email Version A** in terms of user engagement and conversions.\n",
    "\n",
    "Specifically, I'm measuring:\n",
    "- **Open Rate**: the percentage of users who opened the email\n",
    "- **Click-Through Rate (CTR)**: the percentage of opened emails that led to a link click\n",
    "- **Purchase Rate**: the percentage of clicked users who made a purchase\n",
    "\n",
    "#### Experiment Design\n",
    "I assigned 10,000 users randomly into two equal-sized groups:\n",
    "- **Control Group (A)**: received the original email version\n",
    "- **Test Group (B)**: received a redesigned email with an updated subject line and layout\n",
    "\n",
    "Each user went through a simulated funnel: open → click → purchase. I will track these behaviors to analyze performance at each step.\n",
    "\n",
    "#### Statistical Approach\n",
    "To evaluate the results, I’ll calculate and compare:\n",
    "- Conversion metrics for both groups\n",
    "- Statistical significance using hypothesis testing (z-tests for proportions)\n",
    "\n",
    "I’ll define my:\n",
    "- **Null Hypothesis (H₀)**: There is no difference in conversion rates between the control and test groups\n",
    "- **Alternative Hypothesis (H₁)**: The test group (B) has a higher conversion rate than the control group (A)\n",
    "\n",
    "#### Dataset Description\n",
    "The dataset contains one row per user and includes:\n",
    "- `user_id`: unique identifier\n",
    "- `group`: A (control) or B (test)\n",
    "- `opened`: whether the user opened the email\n",
    "- `clicked`: whether the user clicked the link\n",
    "- `purchased`: whether the user completed a purchase\n",
    "\n",
    "#### Outcome\n",
    "By the end of this project, I want to make a data-driven recommendation: should the business move forward with Email Version B, or stick with the original version?\n"
   ]
  },
  {
   "cell_type": "markdown",
   "id": "8ec351be-94c0-47ef-a09e-1e67037df485",
   "metadata": {},
   "source": [
    "### 1. Introduction\n",
    "\n",
    "Before businesses launch a new marketing campaign, it's important to test if the new version actually performs better than the current one. In this project, I’m simulating an A/B test to compare two email versions: the original (control group) and a new version (test group).\n",
    "\n",
    "Each user is randomly assigned to one of the two groups. I'm tracking three key actions:\n",
    "- Whether they opened the email\n",
    "- Whether they clicked the link inside\n",
    "- Whether they made a purchase\n",
    "\n",
    "By analyzing this simulated data, I want to answer:\n",
    "- Is the new version actually better?\n",
    "- Are the differences large enough to matter in a business context?\n",
    "- Are the results statistically significant, or could they be due to chance?\n",
    "\n",
    "To answer these questions, I’ll walk through a clear step-by-step process:\n",
    "- Explore and understand the dataset\n",
    "- Analyze user behavior at each funnel stage\n",
    "- Run statistical tests to compare both groups\n",
    "- Interpret results and make a recommendation\n"
   ]
  },
  {
   "cell_type": "markdown",
   "id": "2909153c-7974-4ff5-a42b-51af48a39673",
   "metadata": {},
   "source": [
    "### 2. Data Overview"
   ]
  },
  {
   "cell_type": "code",
   "execution_count": 1,
   "id": "d4da8696-f13e-4f95-9c03-4a3796dd4d16",
   "metadata": {},
   "outputs": [],
   "source": [
    "# Import libraries\n",
    "import pandas as pd\n",
    "import seaborn as sns\n",
    "import matplotlib.pyplot as plt\n",
    "from statsmodels.stats.proportion import proportions_ztest\n",
    "import numpy as np"
   ]
  },
  {
   "cell_type": "code",
   "execution_count": 2,
   "id": "b2e4c6c2-b1b8-4ac9-9768-f1c731d005c7",
   "metadata": {},
   "outputs": [],
   "source": [
    "# Load the dataset\n",
    "df= pd.read_csv(\"Simulated_A_B_Marketing_Campaign_Dataset.csv\")"
   ]
  },
  {
   "cell_type": "code",
   "execution_count": 3,
   "id": "421832b7-79bd-4be8-aea4-6f3fb7a3593b",
   "metadata": {},
   "outputs": [
    {
     "data": {
      "text/html": [
       "<div>\n",
       "<style scoped>\n",
       "    .dataframe tbody tr th:only-of-type {\n",
       "        vertical-align: middle;\n",
       "    }\n",
       "\n",
       "    .dataframe tbody tr th {\n",
       "        vertical-align: top;\n",
       "    }\n",
       "\n",
       "    .dataframe thead th {\n",
       "        text-align: right;\n",
       "    }\n",
       "</style>\n",
       "<table border=\"1\" class=\"dataframe\">\n",
       "  <thead>\n",
       "    <tr style=\"text-align: right;\">\n",
       "      <th></th>\n",
       "      <th>user_id</th>\n",
       "      <th>group</th>\n",
       "      <th>opened</th>\n",
       "      <th>clicked</th>\n",
       "      <th>purchased</th>\n",
       "    </tr>\n",
       "  </thead>\n",
       "  <tbody>\n",
       "    <tr>\n",
       "      <th>0</th>\n",
       "      <td>1</td>\n",
       "      <td>A</td>\n",
       "      <td>False</td>\n",
       "      <td>False</td>\n",
       "      <td>False</td>\n",
       "    </tr>\n",
       "    <tr>\n",
       "      <th>1</th>\n",
       "      <td>2</td>\n",
       "      <td>B</td>\n",
       "      <td>False</td>\n",
       "      <td>False</td>\n",
       "      <td>False</td>\n",
       "    </tr>\n",
       "    <tr>\n",
       "      <th>2</th>\n",
       "      <td>3</td>\n",
       "      <td>B</td>\n",
       "      <td>True</td>\n",
       "      <td>False</td>\n",
       "      <td>False</td>\n",
       "    </tr>\n",
       "    <tr>\n",
       "      <th>3</th>\n",
       "      <td>4</td>\n",
       "      <td>B</td>\n",
       "      <td>False</td>\n",
       "      <td>False</td>\n",
       "      <td>False</td>\n",
       "    </tr>\n",
       "    <tr>\n",
       "      <th>4</th>\n",
       "      <td>5</td>\n",
       "      <td>A</td>\n",
       "      <td>False</td>\n",
       "      <td>False</td>\n",
       "      <td>False</td>\n",
       "    </tr>\n",
       "  </tbody>\n",
       "</table>\n",
       "</div>"
      ],
      "text/plain": [
       "   user_id group  opened  clicked  purchased\n",
       "0        1     A   False    False      False\n",
       "1        2     B   False    False      False\n",
       "2        3     B    True    False      False\n",
       "3        4     B   False    False      False\n",
       "4        5     A   False    False      False"
      ]
     },
     "execution_count": 3,
     "metadata": {},
     "output_type": "execute_result"
    }
   ],
   "source": [
    "#Preview the first few rows\n",
    "df.head()"
   ]
  },
  {
   "cell_type": "code",
   "execution_count": 4,
   "id": "fb4fbc5d-fb33-4e22-bb2e-8ecbca7065c9",
   "metadata": {},
   "outputs": [
    {
     "data": {
      "text/plain": [
       "user_id      0\n",
       "group        0\n",
       "opened       0\n",
       "clicked      0\n",
       "purchased    0\n",
       "dtype: int64"
      ]
     },
     "execution_count": 4,
     "metadata": {},
     "output_type": "execute_result"
    }
   ],
   "source": [
    "# Checking for Missing Values\n",
    "df.isnull().sum()"
   ]
  },
  {
   "cell_type": "code",
   "execution_count": 5,
   "id": "73069dc4-a683-4e77-af5d-e7d5c6d416f8",
   "metadata": {},
   "outputs": [
    {
     "name": "stdout",
     "output_type": "stream",
     "text": [
      "<class 'pandas.core.frame.DataFrame'>\n",
      "RangeIndex: 10000 entries, 0 to 9999\n",
      "Data columns (total 5 columns):\n",
      " #   Column     Non-Null Count  Dtype \n",
      "---  ------     --------------  ----- \n",
      " 0   user_id    10000 non-null  int64 \n",
      " 1   group      10000 non-null  object\n",
      " 2   opened     10000 non-null  bool  \n",
      " 3   clicked    10000 non-null  bool  \n",
      " 4   purchased  10000 non-null  bool  \n",
      "dtypes: bool(3), int64(1), object(1)\n",
      "memory usage: 185.7+ KB\n"
     ]
    }
   ],
   "source": [
    "# Basic Info and Data Types\n",
    "df.info()"
   ]
  },
  {
   "cell_type": "code",
   "execution_count": 6,
   "id": "987bb835-958e-4539-a65c-bcf97367e911",
   "metadata": {},
   "outputs": [
    {
     "data": {
      "text/plain": [
       "user_id      10000\n",
       "group            2\n",
       "opened           2\n",
       "clicked          2\n",
       "purchased        2\n",
       "dtype: int64"
      ]
     },
     "execution_count": 6,
     "metadata": {},
     "output_type": "execute_result"
    }
   ],
   "source": [
    "# Total Unique Values\n",
    "df.nunique()"
   ]
  },
  {
   "cell_type": "markdown",
   "id": "70bf89ec-d7c9-457e-8fd6-73844f211f5a",
   "metadata": {},
   "source": [
    "#### Observation:\n",
    "- The dataset contains **10,000 users**, each assigned to one of two groups: A (control) or B (test).\n",
    "- There are **no missing values**, which means the dataset is clean and ready for analysis.\n",
    "- Each user has five columns:\n",
    "  - `user_id` - unique identifier\n",
    "  - `group` - either \"A\" or \"B\"\n",
    "  - `opened` - whether the user opened the email\n",
    "  - `clicked` - whether the user clicked the link\n",
    "  - `purchased` - whether the user made a purchase\n",
    "\n",
    "- All behavioral columns (`opened`, `clicked`, `purchased`) are stored as boolean values, which is exactly what I need for calculating conversion rates.\n",
    "- The `group` column is stored as an object (string), and there are no unexpected entries.\n",
    "\n",
    "So far, the structure of the dataset looks good, and I’m ready to move on to the next step: comparing the sizes of the control and test groups.\n"
   ]
  },
  {
   "cell_type": "markdown",
   "id": "17bb34cc-02e6-4e5c-840c-eaf0d1c6b5a7",
   "metadata": {},
   "source": [
    "### 3. Group Sizes\n",
    "\n",
    "Before comparing performance between the two email versions, I want to make sure the users were split evenly between the control group (A) and the test group (B). A fair A/B test depends on random and balanced group assignments.\n",
    "\n",
    "I'll check the total number of users in each group and calculate the percentage split.\n"
   ]
  },
  {
   "cell_type": "code",
   "execution_count": 7,
   "id": "9f6e97ba-3632-43ac-9665-6659c1d908fe",
   "metadata": {},
   "outputs": [
    {
     "data": {
      "text/plain": [
       "group\n",
       "A    5076\n",
       "B    4924\n",
       "Name: count, dtype: int64"
      ]
     },
     "execution_count": 7,
     "metadata": {},
     "output_type": "execute_result"
    }
   ],
   "source": [
    "# Count Number of Users in Each Group\n",
    "group_counts= df['group'].value_counts()\n",
    "group_counts"
   ]
  },
  {
   "cell_type": "code",
   "execution_count": 8,
   "id": "aa41b6dd-9866-4d6e-9d8e-eb25e15a1de1",
   "metadata": {},
   "outputs": [
    {
     "data": {
      "text/plain": [
       "group\n",
       "A    50.76\n",
       "B    49.24\n",
       "Name: proportion, dtype: float64"
      ]
     },
     "execution_count": 8,
     "metadata": {},
     "output_type": "execute_result"
    }
   ],
   "source": [
    "#Calculate percentage split\n",
    "group_percentages= df['group'].value_counts(normalize=True)*100\n",
    "group_percentages"
   ]
  },
  {
   "cell_type": "markdown",
   "id": "fa19ddf5-9a1d-45ee-a722-e5e1120353f6",
   "metadata": {},
   "source": [
    "#### Observation:\n",
    "- Both groups are roughly equal in size, which means the random assignment worked as expected.\n",
    "- This gives me confidence that any differences in conversion rates aren’t due to group size imbalance.\n",
    "\n",
    "Now I’m ready to dive into the conversion funnel and see how each group performed at different stages.\n",
    "\n",
    "**Since both groups are roughly equal in size, I can confidently use either absolute counts or conversion rates in my analysis. However, I’ll still use conversion rates throughout this project to keep analyses consistent, especially if I reuse this template for future tests where sample sizes might be uneven.**\n"
   ]
  },
  {
   "cell_type": "markdown",
   "id": "ece7baec-1eca-4777-a9bc-36c66e08157e",
   "metadata": {},
   "source": [
    "### 4.1 Open Rate\n",
    "\n",
    "First, I want to check how many users in each group actually opened the email. \n",
    "\n",
    "To measure this, I’ll calculate the **open rate** for each group. The **open rate** in email-marketing is the percentage of users who opened the email out of the total users in that group.\n"
   ]
  },
  {
   "cell_type": "code",
   "execution_count": 9,
   "id": "392ca8cb-f207-4d8c-b35a-3efe1fe1edee",
   "metadata": {},
   "outputs": [
    {
     "data": {
      "text/plain": [
       "group\n",
       "A    29.137116\n",
       "B    32.432981\n",
       "Name: opened, dtype: float64"
      ]
     },
     "execution_count": 9,
     "metadata": {},
     "output_type": "execute_result"
    }
   ],
   "source": [
    "# Calculating Open Rate Rate\n",
    "open_rate_pct= df.groupby('group')['opened'].mean()*100\n",
    "open_rate_pct"
   ]
  },
  {
   "cell_type": "code",
   "execution_count": 10,
   "id": "08edc8c4-257e-4654-9049-620e4eebe45f",
   "metadata": {},
   "outputs": [
    {
     "data": {
      "image/png": "[encoded data removed]",
      "text/plain": [
       "<Figure size 600x400 with 1 Axes>"
      ]
     },
     "metadata": {},
     "output_type": "display_data"
    }
   ],
   "source": [
    "#Plot\n",
    "plt.figure(figsize=(6,4)) \n",
    "ax=open_rate_pct.plot(kind='bar')\n",
    "plt.title('Open Rate By Group')\n",
    "plt.xlabel('Group')\n",
    "plt.ylabel('Open Rate %')\n",
    "plt.ylim(0, 100)  # keep y-axis between 0 and 100%\n",
    "# Add value labels above bars\n",
    "for i, value in enumerate(open_rate_pct):\n",
    "    ax.text(i, value + 1, f'{value:.1f}%', ha='center')\n",
    "    \n",
    "plt.savefig('open_rate_by_group.png')\n",
    "plt.show()"
   ]
  },
  {
   "cell_type": "markdown",
   "id": "98198042-0cb6-47fe-a48e-135d1b575913",
   "metadata": {},
   "source": [
    "#### Observation:\n",
    "\n",
    "The open rate is influenced by the subject line.\n",
    "- A higher open rate in the test group (Group B) suggests that the new subject line might be more engaging."
   ]
  },
  {
   "attachments": {},
   "cell_type": "markdown",
   "id": "ab1e3a61-4c4e-43f6-b9bb-f8b076675c2d",
   "metadata": {},
   "source": [
    "<img src=\"Open Rate Funnel.png\" width=\"400\"/>"
   ]
  },
  {
   "cell_type": "markdown",
   "id": "f6248cb5-181c-4821-87c1-863b20d5bfb5",
   "metadata": {},
   "source": [
    "### 4.2 Click Rate (Among Users Who Opened)\n",
    "\n",
    "Next, I want to look at how many users clicked the link inside the email among those who actually opened it. This helps me know how effective the email content was after the subject line did its job.\n",
    "\n",
    "I’ll calculate the **click-through rate (CTR)** for each group, based on users who opened the email."
   ]
  },
  {
   "cell_type": "code",
   "execution_count": 11,
   "id": "7fb39747-7852-4802-ba40-9669e28c18df",
   "metadata": {},
   "outputs": [
    {
     "data": {
      "text/plain": [
       "group\n",
       "A    10.750507\n",
       "B    11.020664\n",
       "Name: clicked, dtype: float64"
      ]
     },
     "execution_count": 11,
     "metadata": {},
     "output_type": "execute_result"
    }
   ],
   "source": [
    "#Filter to only users who opened the email\n",
    "opened_df= df[df['opened']==True]\n",
    "#Calculate Click-Through-Rate\n",
    "CTR= opened_df.groupby('group')['clicked'].mean()*100\n",
    "CTR"
   ]
  },
  {
   "cell_type": "code",
   "execution_count": 12,
   "id": "ec235216-c822-48ce-ae13-9b322deabe6d",
   "metadata": {},
   "outputs": [
    {
     "data": {
      "image/png": "[encoded data removed]",
      "text/plain": [
       "<Figure size 600x400 with 1 Axes>"
      ]
     },
     "metadata": {},
     "output_type": "display_data"
    }
   ],
   "source": [
    "#Plot\n",
    "plt.figure(figsize=(6,4)) \n",
    "ax=CTR.plot(kind='bar')\n",
    "plt.title('Click Through Rate (CTR) By Group')\n",
    "plt.xlabel('Group')\n",
    "plt.ylabel('Click Through Rate %')\n",
    "plt.ylim(0, 100)  # keep y-axis between 0 and 100%\n",
    "# Add value labels above bars\n",
    "for i, value in enumerate(CTR):\n",
    "    ax.text(i, value + 1, f'{value:.1f}%', ha='center')\n",
    "    \n",
    "plt.savefig('ctr_by_group.png')\n",
    "plt.show()"
   ]
  },
  {
   "cell_type": "markdown",
   "id": "b935325f-a0b4-49aa-8ad4-80b25eb1972a",
   "metadata": {},
   "source": [
    "#### Observation:\n",
    "\n",
    "After looking at the users who opened the email, I calculated the click-through rate (CTR) for each group:\n",
    "- **Group A:** 10.8%\n",
    "- **Group B:** 11.0%\n",
    "\n",
    "There was only a 0.2 percentage point difference between the groups. While Group B has a slightly higher CTR, the increase is very small. At this point, I can’t tell if this difference is meaningful. I’ll need to confirm that later through statistical testing.\n",
    "\n",
    "Still, it’s good to see that the new email version didn’t perform worse at this stage, and it might even be helping a little.\n"
   ]
  },
  {
   "cell_type": "markdown",
   "id": "cd7af3e3-ac64-4183-88a4-2e3432841d2e",
   "metadata": {},
   "source": [
    "<img src=\"CTR Funnel.png\" width=\"400\"/>"
   ]
  },
  {
   "cell_type": "markdown",
   "id": "983ad2cd-a2bf-411c-9b75-fe5fe722f24a",
   "metadata": {},
   "source": [
    "### 4.3 Purchase Rate (Among Users Who Clicked)\n",
    "\n",
    "In the final step of the funnel, I explore how many users made a purchase after clicking the email link.\n",
    "\n",
    "This tells me whether the content on the landing page was relevant enough to complete the purchase. Just like before, I’ll calculate the **purchase rate** for each group, among users who clicked."
   ]
  },
  {
   "cell_type": "code",
   "execution_count": 13,
   "id": "bac31648-0520-4a3b-a565-7b5125142be8",
   "metadata": {},
   "outputs": [
    {
     "data": {
      "text/plain": [
       "group\n",
       "A    5.660377\n",
       "B    3.977273\n",
       "Name: purchased, dtype: float64"
      ]
     },
     "execution_count": 13,
     "metadata": {},
     "output_type": "execute_result"
    }
   ],
   "source": [
    "#Filter to only among users who clicked\n",
    "clicked_df= df[df['clicked']==True]\n",
    "#Calculate Purchase Rate\n",
    "purchase_rate= clicked_df.groupby('group')['purchased'].mean()*100\n",
    "purchase_rate"
   ]
  },
  {
   "cell_type": "code",
   "execution_count": 14,
   "id": "cac7005d-6736-4dff-a564-28a80629701c",
   "metadata": {},
   "outputs": [
    {
     "data": {
      "image/png": "[encoded data removed]",
      "text/plain": [
       "<Figure size 600x400 with 1 Axes>"
      ]
     },
     "metadata": {},
     "output_type": "display_data"
    }
   ],
   "source": [
    "#Plot\n",
    "plt.figure(figsize=(6,4)) \n",
    "ax=purchase_rate.plot(kind='bar')\n",
    "plt.title('Purchase Rate By Group')\n",
    "plt.xlabel('Group')\n",
    "plt.ylabel('Purchase Rate %')\n",
    "plt.ylim(0, 100)  # keep y-axis between 0 and 100%\n",
    "# Add value labels above bars\n",
    "for i, value in enumerate(purchase_rate):\n",
    "    ax.text(i, value + 1, f'{value:.1f}%', ha='center')\n",
    "    \n",
    "plt.savefig('purchase_rate_by_group.png')\n",
    "plt.show()"
   ]
  },
  {
   "cell_type": "markdown",
   "id": "f7d677c9-33e6-4dca-9fdf-aaf72cc6d84a",
   "metadata": {},
   "source": [
    "#### Observation:\n",
    "\n",
    "At the final stage of the funnel, I looked at how many users actually made a purchase after clicking the email link.\n",
    "\n",
    "- **Group A (Control)** had a purchase rate of **5.7%**\n",
    "- **Group B (Test)** had a purchase rate of **4.0%**\n",
    "\n",
    "I expected Group B to perform better since it had slightly higher open and click rates. But here, it actually converted fewer users into paying customers.\n",
    "\n",
    "Right now, this difference looks pretty meaningful (almost a 30% relative drop), but I still need to confirm if it’s statistically significant using a proper hypothesis test.\n"
   ]
  },
  {
   "cell_type": "markdown",
   "id": "7cee6a71-c8c3-408b-b1ab-06ed6259b458",
   "metadata": {},
   "source": [
    "<img src=\"Purchase Funnel.png\" width=\"400\"/>"
   ]
  },
  {
   "cell_type": "markdown",
   "id": "e527b39a-bac7-420c-997c-12948089b951",
   "metadata": {},
   "source": [
    "### 4.4 Overall Conversion Rate\n",
    "\n",
    "Before I run statistical tests, I want to look at the overall conversion rate for each group i.e. the percentage of users who received the email and ended up making a purchase.\n",
    "\n",
    "This gives a full-picture view of performance from start to finish."
   ]
  },
  {
   "cell_type": "code",
   "execution_count": 15,
   "id": "0a49969e-4e56-4aca-9122-52324088e144",
   "metadata": {},
   "outputs": [
    {
     "data": {
      "text/plain": [
       "group\n",
       "A    0.177305\n",
       "B    0.142161\n",
       "Name: purchased, dtype: float64"
      ]
     },
     "execution_count": 15,
     "metadata": {},
     "output_type": "execute_result"
    }
   ],
   "source": [
    "overall_conversion = df.groupby('group')['purchased'].mean() * 100\n",
    "overall_conversion"
   ]
  },
  {
   "cell_type": "markdown",
   "id": "8a61f962-f1be-4045-ae28-53c6e9fb9496",
   "metadata": {},
   "source": [
    "#### Observation:\n",
    "\n",
    "When I looked at the overall conversion rates, the numbers were small but realistic:\n",
    "\n",
    "- **Group A (Control):** 0.18%\n",
    "- **Group B (Test):** 0.14%\n",
    "\n",
    "At this point, Group A seems to have a slightly higher conversion rate overall. I’ll test whether this difference is statistically significant in the next step."
   ]
  },
  {
   "cell_type": "markdown",
   "id": "87997d31-f901-48eb-b85e-f685c4d1b089",
   "metadata": {},
   "source": [
    "### 5.1 Z-Test for Click Rate (Among Opened Users)\n",
    "\n",
    "To see if there's a statistically significant difference in click-through rates between the control and test groups, I ran a z-test for proportions using users who opened the email."
   ]
  },
  {
   "cell_type": "code",
   "execution_count": 16,
   "id": "e29e8aae-46b2-41c2-946e-c311beee8c07",
   "metadata": {},
   "outputs": [
    {
     "data": {
      "text/plain": [
       "int"
      ]
     },
     "execution_count": 16,
     "metadata": {},
     "output_type": "execute_result"
    }
   ],
   "source": [
    "#Count Clicks in each group of users who opened the email\n",
    "clicks_A= opened_df[(opened_df['group']=='A') & (opened_df['clicked']==True)].shape[0]\n",
    "clicks_B= opened_df[(opened_df['group']=='B') & (opened_df['clicked']==True)].shape[0]\n",
    "#Count Total Opens in each group of users\n",
    "opens_A= opened_df[(opened_df['group']=='A')].shape[0]\n",
    "#opens_A\n",
    "opens_B= opened_df[(opened_df['group']=='B')].shape[0]\n",
    "type(opens_B)\n",
    "type(clicks_A)"
   ]
  },
  {
   "cell_type": "code",
   "execution_count": 17,
   "id": "3650d5c5-65fe-4458-a2be-fc7f5e90dc3d",
   "metadata": {},
   "outputs": [],
   "source": [
    "# Function Definition for running Z-Test:\n",
    "def run_ab_ztest(success_A, success_B, nobs_A, nobs_B, alt='two-sided'):\n",
    "    \"\"\"\n",
    "    This function runs a two-sided z-test for comparing two proportions (e.g., open or click rates).\n",
    "    \n",
    "    Parameters:\n",
    "        success_A (int): Number of successes in group A (e.g., clicks)\n",
    "        nobs_A (int): Total trials in group A (e.g., opens)\n",
    "        success_B (int): Number of successes in group B\n",
    "        nobs_B (int): Total trials in group B\n",
    "        alternative (str): specifies hypothesis type, default is two-sided. Other options are 'smaller' and 'larger'\n",
    "    \n",
    "    Returns:\n",
    "        None (prints test results)\n",
    "    \"\"\"\n",
    "    # Prepare data for z-test\n",
    "    counts = [int(success_A), int(success_B)]\n",
    "    nobs = [nobs_A, nobs_B]\n",
    "\n",
    "    # Run Z-Test\n",
    "    z_stat, p_val = proportions_ztest(count=counts, nobs=nobs, alternative=alt)\n",
    "\n",
    "    # Print Results\n",
    "    print(f\"Z-Test for Conversion Rate\")\n",
    "    print(f\"Group A: {success_A}/{nobs_A} = {success_A / nobs_A:.2%}\")\n",
    "    print(f\"Group B: {success_B}/{nobs_B} = {success_B / nobs_B:.2%}\")\n",
    "    print(f\"Z-Statistic: {z_stat:.4f}\")\n",
    "    print(f\"P-Value: {p_val:.4f}\")\n",
    "\n",
    "    if p_val < 0.05:\n",
    "        print(\"Result: Statistically significant difference (p < 0.05)\")\n",
    "    else:\n",
    "        print(\"Result: No statistically significant difference (p ≥ 0.05)\")"
   ]
  },
  {
   "cell_type": "code",
   "execution_count": 18,
   "id": "c6d60ab2-511b-47e1-b6a2-6b5273b539bf",
   "metadata": {},
   "outputs": [
    {
     "name": "stdout",
     "output_type": "stream",
     "text": [
      "Z-Test for Conversion Rate\n",
      "Group A: 159/1479 = 10.75%\n",
      "Group B: 176/1597 = 11.02%\n",
      "Z-Statistic: -0.2403\n",
      "P-Value: 0.8101\n",
      "Result: No statistically significant difference (p ≥ 0.05)\n"
     ]
    }
   ],
   "source": [
    "run_ab_ztest(clicks_A, clicks_B, opens_A, opens_B) # Function call for running Z-Test"
   ]
  },
  {
   "cell_type": "markdown",
   "id": "dfd932fb-0931-4f6f-a721-fcd0df2a94eb",
   "metadata": {},
   "source": [
    "#### Step 5.1: Click Rate Z-Test Observation:\n",
    "\n",
    "After running the z-test on click-through rate (among users who opened the email), I found no statistically significant difference between Group A and Group B:\n",
    "\n",
    "- **Group A:** 10.75%\n",
    "- **Group B:** 11.02%\n",
    "- **P-value:** 0.81\n",
    "\n",
    "Since the p-value is much greater than 0.05, I fail to reject the null hypothesis. This means I **can’t confidently say that one group performed better than the other** in terms of click-through rate.\n",
    "\n",
    "Even though Group B had a slightly higher CTR, this difference could easily be due to chance. The result isn’t strong enough to act on its own."
   ]
  },
  {
   "cell_type": "markdown",
   "id": "bdc3a02a-8136-4d06-a85b-32bb2895c118",
   "metadata": {},
   "source": [
    "### 5.2 Z-Test for Purchase Rate (Among Users Who Clicked)\n",
    "\n",
    "To see if there's a statistically significant difference in Purchase Rates between the control and test groups, I ran a z-test for proportions using users who clicked the email.\n",
    "\n",
    "This helps me understand if one version leads to better conversions after users show interest.\n"
   ]
  },
  {
   "cell_type": "code",
   "execution_count": 20,
   "id": "d9c6292a-af5b-42ff-a1c3-a1a89a1a28cc",
   "metadata": {},
   "outputs": [
    {
     "data": {
      "text/html": [
       "<div>\n",
       "<style scoped>\n",
       "    .dataframe tbody tr th:only-of-type {\n",
       "        vertical-align: middle;\n",
       "    }\n",
       "\n",
       "    .dataframe tbody tr th {\n",
       "        vertical-align: top;\n",
       "    }\n",
       "\n",
       "    .dataframe thead th {\n",
       "        text-align: right;\n",
       "    }\n",
       "</style>\n",
       "<table border=\"1\" class=\"dataframe\">\n",
       "  <thead>\n",
       "    <tr style=\"text-align: right;\">\n",
       "      <th></th>\n",
       "      <th>user_id</th>\n",
       "      <th>group</th>\n",
       "      <th>opened</th>\n",
       "      <th>clicked</th>\n",
       "      <th>purchased</th>\n",
       "    </tr>\n",
       "  </thead>\n",
       "  <tbody>\n",
       "    <tr>\n",
       "      <th>20</th>\n",
       "      <td>21</td>\n",
       "      <td>B</td>\n",
       "      <td>True</td>\n",
       "      <td>True</td>\n",
       "      <td>False</td>\n",
       "    </tr>\n",
       "    <tr>\n",
       "      <th>30</th>\n",
       "      <td>31</td>\n",
       "      <td>B</td>\n",
       "      <td>True</td>\n",
       "      <td>True</td>\n",
       "      <td>False</td>\n",
       "    </tr>\n",
       "    <tr>\n",
       "      <th>89</th>\n",
       "      <td>90</td>\n",
       "      <td>A</td>\n",
       "      <td>True</td>\n",
       "      <td>True</td>\n",
       "      <td>False</td>\n",
       "    </tr>\n",
       "    <tr>\n",
       "      <th>91</th>\n",
       "      <td>92</td>\n",
       "      <td>B</td>\n",
       "      <td>True</td>\n",
       "      <td>True</td>\n",
       "      <td>False</td>\n",
       "    </tr>\n",
       "    <tr>\n",
       "      <th>109</th>\n",
       "      <td>110</td>\n",
       "      <td>A</td>\n",
       "      <td>True</td>\n",
       "      <td>True</td>\n",
       "      <td>False</td>\n",
       "    </tr>\n",
       "    <tr>\n",
       "      <th>...</th>\n",
       "      <td>...</td>\n",
       "      <td>...</td>\n",
       "      <td>...</td>\n",
       "      <td>...</td>\n",
       "      <td>...</td>\n",
       "    </tr>\n",
       "    <tr>\n",
       "      <th>9851</th>\n",
       "      <td>9852</td>\n",
       "      <td>B</td>\n",
       "      <td>True</td>\n",
       "      <td>True</td>\n",
       "      <td>False</td>\n",
       "    </tr>\n",
       "    <tr>\n",
       "      <th>9874</th>\n",
       "      <td>9875</td>\n",
       "      <td>B</td>\n",
       "      <td>True</td>\n",
       "      <td>True</td>\n",
       "      <td>False</td>\n",
       "    </tr>\n",
       "    <tr>\n",
       "      <th>9883</th>\n",
       "      <td>9884</td>\n",
       "      <td>B</td>\n",
       "      <td>True</td>\n",
       "      <td>True</td>\n",
       "      <td>False</td>\n",
       "    </tr>\n",
       "    <tr>\n",
       "      <th>9964</th>\n",
       "      <td>9965</td>\n",
       "      <td>A</td>\n",
       "      <td>True</td>\n",
       "      <td>True</td>\n",
       "      <td>False</td>\n",
       "    </tr>\n",
       "    <tr>\n",
       "      <th>9976</th>\n",
       "      <td>9977</td>\n",
       "      <td>A</td>\n",
       "      <td>True</td>\n",
       "      <td>True</td>\n",
       "      <td>False</td>\n",
       "    </tr>\n",
       "  </tbody>\n",
       "</table>\n",
       "<p>335 rows × 5 columns</p>\n",
       "</div>"
      ],
      "text/plain": [
       "      user_id group  opened  clicked  purchased\n",
       "20         21     B    True     True      False\n",
       "30         31     B    True     True      False\n",
       "89         90     A    True     True      False\n",
       "91         92     B    True     True      False\n",
       "109       110     A    True     True      False\n",
       "...       ...   ...     ...      ...        ...\n",
       "9851     9852     B    True     True      False\n",
       "9874     9875     B    True     True      False\n",
       "9883     9884     B    True     True      False\n",
       "9964     9965     A    True     True      False\n",
       "9976     9977     A    True     True      False\n",
       "\n",
       "[335 rows x 5 columns]"
      ]
     },
     "execution_count": 20,
     "metadata": {},
     "output_type": "execute_result"
    }
   ],
   "source": [
    "clicked_df"
   ]
  },
  {
   "cell_type": "code",
   "execution_count": 27,
   "id": "986448e4-4922-429f-be73-e7833cdb67a6",
   "metadata": {},
   "outputs": [
    {
     "name": "stdout",
     "output_type": "stream",
     "text": [
      "Z-Test for Conversion Rate\n",
      "Group A: 9/159 = 5.66%\n",
      "Group B: 7/176 = 3.98%\n",
      "Z-Statistic: 0.7213\n",
      "P-Value: 0.4707\n",
      "Result: No statistically significant difference (p ≥ 0.05)\n"
     ]
    }
   ],
   "source": [
    "# Reuse my z-test function for purchase rate\n",
    "purchase_A= clicked_df[(clicked_df['group']=='A') & (clicked_df['purchased']==True)].shape[0]\n",
    "purchase_B= clicked_df[(clicked_df['group']=='B') & (clicked_df['purchased']==True)].shape[0]\n",
    "\n",
    "run_ab_ztest(purchase_A, purchase_B, clicks_A, clicks_B)"
   ]
  },
  {
   "cell_type": "markdown",
   "id": "32ce4c87-29f1-4dfb-8dfd-6d60f7a13d32",
   "metadata": {},
   "source": [
    "#### Step 5.2: Purchase Rate Z-Test Observation:\n",
    "\n",
    "Now that I looked at users who clicked the email, I wanted to see how many of them went on to make a purchase.\n",
    "\n",
    "- **Group A:** 9 purchases out of 159 = **5.66%**\n",
    "- **Group B:** 7 purchases out of 176 = **3.98%**\n",
    "\n",
    "The z-test returned a **p-value of 0.4707**, which is above the 0.05 threshold. That means the observed difference is **not statistically significant**.\n",
    "\n",
    "Even though Group A showed a higher purchase rate among clickers, I can’t confidently say that it's due to the campaign difference as the variation might be by chance."
   ]
  },
  {
   "cell_type": "markdown",
   "id": "03c6b487-ce58-4308-9aa8-68e1a54c9b7f",
   "metadata": {},
   "source": [
    "#### 5.3 Z-Test for Overall Conversion Rate (From Email Sent to Purchase)\n",
    "\n",
    "Finally, I want to compare the overall performance of both campaigns, from email sent all the way to purchase.\n",
    "\n",
    "This tells me whether one version was better at converting users through the entire funnel.\n"
   ]
  },
  {
   "cell_type": "code",
   "execution_count": 28,
   "id": "68978f91-a3f6-419d-b863-ae3cfe0416f3",
   "metadata": {},
   "outputs": [
    {
     "name": "stdout",
     "output_type": "stream",
     "text": [
      "Z-Test for Conversion Rate\n",
      "Group A: 9/5076 = 0.18%\n",
      "Group B: 7/4924 = 0.14%\n",
      "Z-Statistic: 0.4396\n",
      "P-Value: 0.6602\n",
      "Result: No statistically significant difference (p ≥ 0.05)\n"
     ]
    }
   ],
   "source": [
    "#Total Users in each group:\n",
    "total_A= df[df['group']=='A'].shape[0]\n",
    "total_B= df[df['group']=='B'].shape[0]\n",
    "\n",
    "#Purchase in each group\n",
    "total_purchase_A= df[(df['group']=='A') & (df['purchased']==True)].shape[0]\n",
    "total_purchase_B= df[(df['group']=='B') & (df['purchased']==True)].shape[0]\n",
    "run_ab_ztest(total_purchase_A, total_purchase_B, total_A, total_B)"
   ]
  },
  {
   "cell_type": "markdown",
   "id": "ceeef437-3cdb-4ee1-a914-c2597d2fdb3d",
   "metadata": {},
   "source": [
    "#### Step 5.3: Overall Conversion Z-Test\n",
    "\n",
    "To get a full-funnel view, I analyzed the overall conversion rate for both groups(from email sent to purchase).\n",
    "\n",
    "- **Group A:** 9 purchases out of 5,076 users = **0.18%**\n",
    "- **Group B:** 7 purchases out of 4,924 users = **0.14%**\n",
    "\n",
    "The z-test gave a p-value of **0.6602**, which is far above the 0.05 significance level. This means there's **no statistically significant difference** in overall conversion between the two campaigns. It’s possible that the small difference I’m seeing is just due to natural random variation in the sample. In other words, if I ran this experiment again with a different random sample of users, the result might flip.\n",
    "\n",
    "So while Group A seems to be performing a little better, the evidence isn't strong enough for me to confidently say it's due to the campaign itself. I would **not recommend rolling out the test version based on these results alone**.\n"
   ]
  },
  {
   "cell_type": "markdown",
   "id": "a7e91f78-1e91-4042-b81f-58d888440513",
   "metadata": {},
   "source": [
    "### Bonus: Bayesian A/B Testing (Stretch Goal)\n",
    "\n",
    "To go beyond traditional hypothesis testing, I'm exploring a simple Bayesian approach to A/B testing.\n",
    "\n",
    "Instead of calculating a p-value, Bayesian methods allow me to directly compute the **probability that one version performs better than the other** i.e.\n",
    ", the probability that **Group B has a higher conversion rate than Group A**."
   ]
  },
  {
   "cell_type": "markdown",
   "id": "7477865f-45f0-4e60-b722-003ba4716598",
   "metadata": {},
   "source": [
    "#### Bayesian Modeling Assumptions\n",
    "\n",
    "Each group’s conversion rate is modeled using a **Beta distribution**, which is the standard Bayesian prior for a binomial process (success/failure data).\n",
    "\n",
    "For each group, the posterior distribution is:\n",
    "- Group A ~ Beta(α₁, β₁) where α₁ = successes_A + 1, β₁ = trials_A - successes_A + 1\n",
    "- Group B ~ Beta(α₂, β₂) where α₂ = successes_B + 1, β₂ = trials_B - successes_B + 1\n",
    "\n",
    "This assumes a uniform prior Beta(1, 1) i.e. I don’t assume either group is better to start.\n"
   ]
  },
  {
   "cell_type": "code",
   "execution_count": 30,
   "id": "4b7e89b9-5491-4811-af4a-608c359da3aa",
   "metadata": {},
   "outputs": [],
   "source": [
    "from scipy.stats import beta\n",
    "\n",
    "# Define posterior parameters:\n",
    "alpha_A= total_purchase_A +1\n",
    "beta_A= total_A- total_purchase_A +1\n",
    "alpha_B= total_purchase_B +1\n",
    "beta_B= total_B- total_purchase_B +1"
   ]
  },
  {
   "cell_type": "code",
   "execution_count": 31,
   "id": "4bec375b-8f9b-4be3-b0d4-e7337a59e04e",
   "metadata": {},
   "outputs": [
    {
     "name": "stdout",
     "output_type": "stream",
     "text": [
      "Probability that Group B outperforms Group A: 0.3405\n"
     ]
    }
   ],
   "source": [
    "# Monte Carlo Simulation of Samples from posterior parameters:\n",
    "samples_A= np.random.beta(alpha_A, beta_A, 100000)\n",
    "samples_B= np.random.beta(alpha_B, beta_B, 100000)\n",
    "\n",
    "#Clculate proportion of times Group B outperformed Group A across 100,000 simulations\n",
    "prob_B = (samples_B> samples_A).mean()\n",
    "print(f\"Probability that Group B outperforms Group A: {prob_B:.4f}\")"
   ]
  },
  {
   "cell_type": "code",
   "execution_count": 36,
   "id": "2bab021d-6eaa-4897-919c-bd5542e5e544",
   "metadata": {},
   "outputs": [
    {
     "data": {
      "image/png": "[encoded data removed]",
      "text/plain": [
       "<Figure size 1000x500 with 1 Axes>"
      ]
     },
     "metadata": {},
     "output_type": "display_data"
    },
    {
     "data": {
      "text/plain": [
       "<Figure size 640x480 with 0 Axes>"
      ]
     },
     "metadata": {},
     "output_type": "display_data"
    }
   ],
   "source": [
    "# Plot posterior distributions\n",
    "plt.figure(figsize=(10, 5))\n",
    "plt.hist(samples_A, bins=100, alpha=0.6, label='Group A (Control)', color='skyblue', density=True)\n",
    "plt.hist(samples_B, bins=100, alpha=0.6, label='Group B (Test)', color='orange', density=True)\n",
    "plt.title('Posterior Distributions of Conversion Rates')\n",
    "plt.xlabel('Conversion Rate')\n",
    "plt.ylabel('Density')\n",
    "plt.legend()\n",
    "plt.grid(True)\n",
    "plt.show()\n",
    "plt.savefig(\"Bayesian_distribution.png\", dpi=300, bbox_inches='tight');"
   ]
  },
  {
   "cell_type": "markdown",
   "id": "dd19cf1d-4099-4e23-bae2-bf842981d138",
   "metadata": {},
   "source": [
    "### Bayesian Stretch Goal Observations:\n",
    "\n",
    "To wrap up this analysis, I ran a simple Bayesian simulation using Beta distributions to estimate each group’s true conversion rate.\n",
    "\n",
    "I simulated 100,000 possible scenarios for each group and compared them:\n",
    "\n",
    "**There’s a 34.05% probability that Group B outperforms Group A** in terms of overall conversion.\n",
    "\n",
    "The two posterior distributions (visualized above) overlap quite a bit. If the distributions had **minimal or no overlap**, and Group B’s curve was clearly **shifted to the right** of Group A’s  (with a higher median or peak) I could have concluded:\n",
    "> *“Group B is the better performer.”*\n",
    "\n",
    "But here, the **substantial overlap** and modest probability (~34%) both suggest:\n",
    "> There’s **not enough evidence to favor Group B** over Group A based on this experiment.\n",
    "\n",
    "Still, I appreciated how the Bayesian approach gave me a **clear, intuitive probability** rather than a p-value."
   ]
  },
  {
   "cell_type": "markdown",
   "id": "627f034a-3e6f-40f3-abb4-747fd533c048",
   "metadata": {},
   "source": [
    "## Final Summary & Recommendation\n",
    "\n",
    "In this A/B testing project, I analyzed the performance of two email marketing campaigns (Group A and Group B) across key stages of the user journey:\n",
    "\n",
    "1. **Open Rate**\n",
    "2. **Click-Through Rate (CTR)**\n",
    "3. **Purchase Rate (among users who clicked)**\n",
    "4. **Overall Conversion Rate (from email sent to purchase)**\n",
    "\n",
    "---\n",
    "\n",
    "### Observations:\n",
    "\n",
    "- **Open Rate**: Group B slightly outperformed Group A (32.4% vs 29.1%)  \n",
    "- **Click Rate (Among Opened)**: Nearly identical for both groups (10.8% vs 11.0%)  \n",
    "- **Purchase Rate (Among Clicked)**: Group A had a slightly higher rate (5.7% vs 4.0%)  \n",
    "- **Overall Conversion Rate**: Group A again slightly higher (0.18% vs 0.14%)\n",
    "\n",
    "None of these differences were statistically significant based on z-tests (p ≥ 0.05 in all cases).\n",
    "\n",
    "I also performed a **Bayesian simulation** to estimate the probability that Group B outperformed Group A:\n",
    "> **Only 34.05%** of the simulations showed Group B converting better than Group A.\n",
    "\n",
    "This strengthens the conclusion that **Group B did not outperform Group A in a meaningful way**.\n",
    "\n",
    "---\n",
    "\n",
    "### Recommendations:\n",
    "\n",
    "Since there’s no statistically significant or practically meaningful lift from Group B, I would recommend **sticking with the existing campaign (Group A)** or replacing with a new test idea.\n",
    "\n",
    "Group B showed no clear improvement and based on the data, rolling it out may not be worth the risk.\n",
    "\n",
    "---\n",
    "\n",
    "This project strengthened my ability to run real-world experiments, interpret results, and make data-driven decisions. It’s a strong example of the kind of work I’d contribute in a data science or product analytics role.\n"
   ]
  }
 ],
 "metadata": {
  "kernelspec": {
   "display_name": "Python 3 (ipykernel)",
   "language": "python",
   "name": "python3"
  },
  "language_info": {
   "codemirror_mode": {
    "name": "ipython",
    "version": 3
   },
   "file_extension": ".py",
   "mimetype": "text/x-python",
   "name": "python",
   "nbconvert_exporter": "python",
   "pygments_lexer": "ipython3",
   "version": "3.10.16"
  }
 },
 "nbformat": 4,
 "nbformat_minor": 5
}
